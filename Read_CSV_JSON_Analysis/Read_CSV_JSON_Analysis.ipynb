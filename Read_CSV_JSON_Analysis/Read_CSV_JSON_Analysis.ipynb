{
 "cells": [
  {
   "cell_type": "code",
   "execution_count": 1,
   "id": "12cca604-e849-4b6d-a746-9c41dc6b0250",
   "metadata": {},
   "outputs": [],
   "source": [
    "import pandas as pd"
   ]
  },
  {
   "cell_type": "markdown",
   "id": "245c2c88-f773-4ebe-824a-0f110bc88860",
   "metadata": {},
   "source": [
    "# Read CSV Files\n",
    "A simple way to store big data sets is to use CSV files (comma separated files).\n",
    "\n",
    "CSV files contains plain text and is a well know format that can be read by everyone including Pandas.\n",
    "\n",
    "In our examples we will be using a CSV file called 'gym.csv'."
   ]
  },
  {
   "cell_type": "code",
   "execution_count": 3,
   "id": "264057f9-f40b-48f7-bc8b-fe2d3a1c019e",
   "metadata": {},
   "outputs": [],
   "source": [
    "df = pd.read_csv(\"gym.csv\")"
   ]
  },
  {
   "cell_type": "code",
   "execution_count": 4,
   "id": "c0bd94c9-7666-4376-bcfe-d52ec3d1842f",
   "metadata": {},
   "outputs": [
    {
     "name": "stdout",
     "output_type": "stream",
     "text": [
      "          Date  workout     time\n",
      "0   31-01-2025     walk  1:00:00\n",
      "1   01-02-2025     walk  1:00:00\n",
      "2   02-02-2025     walk  1:00:00\n",
      "3   03-02-2025     Work        0\n",
      "4   04-02-2025    Slept        0\n",
      "5   05-02-2025  Holiday        0\n",
      "6   06-02-2025      Gym  0:55:00\n",
      "7   06-02-2025     Walk  0:45:00\n",
      "8   07-02-2025      Gym  0:50:00\n",
      "9   07-02-2025     Walk  0:20:00\n",
      "10  08-02-2025     Work        0\n",
      "11  09-02-2025     Walk  0:45:00\n",
      "12  10-02-2025     Work        0\n",
      "13  11-02-2025      Gym  0:45:00\n",
      "14  11-02-2025     Walk  0:20:00\n",
      "15  12-02-2025     Walk  1:15:00\n",
      "16  13-02-2025  Holiday        0\n",
      "17  14-02-2025     Walk  0:45:00\n",
      "18  15-02-2025     Walk  1:00:00\n",
      "19  16-02-2025     Walk  1:00:00\n",
      "20  17-02-2025     Work        0\n",
      "21  18-02-2025     Walk  0:50:00\n",
      "22  19-02-2025  Holiday        0\n",
      "23  20-02-2025  Holiday        0\n",
      "24  21-02-2025     Walk  0:45:00\n",
      "25  22-02-2025     Walk  1:00:00\n",
      "26  23-02-2025     Walk  1:00:00\n",
      "27  24-02-2025     Work        0\n",
      "28  25-02-2025     Walk  1:00:00\n",
      "29  26-02-2025  Holiday        0\n",
      "30  27-02-2025  Holiday        0\n",
      "31  28-02-2025     Walk  1:00:00\n",
      "32  01-03-2025      Gym  0:40:00\n"
     ]
    }
   ],
   "source": [
    "print(df)"
   ]
  },
  {
   "cell_type": "code",
   "execution_count": 5,
   "id": "ee8e7060-266e-4a07-b83e-71cb1acab05e",
   "metadata": {},
   "outputs": [
    {
     "name": "stdout",
     "output_type": "stream",
     "text": [
      "          Date  workout     time\n",
      "0   31-01-2025     walk  1:00:00\n",
      "1   01-02-2025     walk  1:00:00\n",
      "2   02-02-2025     walk  1:00:00\n",
      "3   03-02-2025     Work        0\n",
      "4   04-02-2025    Slept        0\n",
      "5   05-02-2025  Holiday        0\n",
      "6   06-02-2025      Gym  0:55:00\n",
      "7   06-02-2025     Walk  0:45:00\n",
      "8   07-02-2025      Gym  0:50:00\n",
      "9   07-02-2025     Walk  0:20:00\n",
      "10  08-02-2025     Work        0\n",
      "11  09-02-2025     Walk  0:45:00\n",
      "12  10-02-2025     Work        0\n",
      "13  11-02-2025      Gym  0:45:00\n",
      "14  11-02-2025     Walk  0:20:00\n",
      "15  12-02-2025     Walk  1:15:00\n",
      "16  13-02-2025  Holiday        0\n",
      "17  14-02-2025     Walk  0:45:00\n",
      "18  15-02-2025     Walk  1:00:00\n",
      "19  16-02-2025     Walk  1:00:00\n",
      "20  17-02-2025     Work        0\n",
      "21  18-02-2025     Walk  0:50:00\n",
      "22  19-02-2025  Holiday        0\n",
      "23  20-02-2025  Holiday        0\n",
      "24  21-02-2025     Walk  0:45:00\n",
      "25  22-02-2025     Walk  1:00:00\n",
      "26  23-02-2025     Walk  1:00:00\n",
      "27  24-02-2025     Work        0\n",
      "28  25-02-2025     Walk  1:00:00\n",
      "29  26-02-2025  Holiday        0\n",
      "30  27-02-2025  Holiday        0\n",
      "31  28-02-2025     Walk  1:00:00\n",
      "32  01-03-2025      Gym  0:40:00\n"
     ]
    }
   ],
   "source": [
    "print(df.to_string())"
   ]
  },
  {
   "cell_type": "markdown",
   "id": "23551192-1533-4dca-8e9f-c092ab70e710",
   "metadata": {},
   "source": [
    "# max_rows\n",
    "The number of rows returned is defined in Pandas option settings.\n",
    "\n",
    "You can check your system's maximum rows with the pd.options.display.max_rows statement."
   ]
  },
  {
   "cell_type": "code",
   "execution_count": 6,
   "id": "1abe6910-eac5-4d47-9060-21d75ec5783e",
   "metadata": {},
   "outputs": [
    {
     "name": "stdout",
     "output_type": "stream",
     "text": [
      "60\n"
     ]
    }
   ],
   "source": [
    "print(pd.options.display.max_rows)"
   ]
  },
  {
   "cell_type": "markdown",
   "id": "080ed424-0d81-417d-b682-3b60583fff76",
   "metadata": {},
   "source": [
    "In my system the number is 60, which means that if the DataFrame contains more than 60 rows, the print(df) statement will return only the headers and the first and last 5 rows.\n",
    "\n",
    "You can change the maximum rows number with the same statement."
   ]
  },
  {
   "cell_type": "code",
   "execution_count": 10,
   "id": "3dacf62d-8c33-47a7-abe3-939ab963ed6e",
   "metadata": {},
   "outputs": [],
   "source": [
    "pd.set_option(\"display.max_rows\", 100)"
   ]
  },
  {
   "cell_type": "markdown",
   "id": "10e9969a-c905-4de9-b07a-4b7ea5e38099",
   "metadata": {},
   "source": [
    "# Read JSON\n",
    "Big data sets are often stored, or extracted as JSON.\n",
    "\n",
    "JSON is plain text, but has the format of an object, and is well known in the world of programming, including Pandas.\n",
    "\n",
    "In our examples we will be using a JSON file called 'data.json'."
   ]
  },
  {
   "cell_type": "code",
   "execution_count": 11,
   "id": "fd7327a8-b6ae-48f1-a79e-ffeb9da7589a",
   "metadata": {},
   "outputs": [],
   "source": [
    "df = pd.read_json('data.js')"
   ]
  },
  {
   "cell_type": "code",
   "execution_count": 12,
   "id": "03c2c6ae-688f-4d16-8d15-61b05f783bbb",
   "metadata": {},
   "outputs": [
    {
     "name": "stdout",
     "output_type": "stream",
     "text": [
      "     Duration  Pulse  Maxpulse  Calories\n",
      "0          60    110       130     409.1\n",
      "1          60    117       145     479.0\n",
      "2          60    103       135     340.0\n",
      "3          45    109       175     282.4\n",
      "4          45    117       148     406.0\n",
      "..        ...    ...       ...       ...\n",
      "164        60    105       140     290.8\n",
      "165        60    110       145     300.4\n",
      "166        60    115       145     310.2\n",
      "167        75    120       150     320.4\n",
      "168        75    125       150     330.4\n",
      "\n",
      "[169 rows x 4 columns]\n"
     ]
    }
   ],
   "source": [
    "print(df)"
   ]
  },
  {
   "cell_type": "markdown",
   "id": "ed20728e-159c-4cf5-adc3-0e8622466c47",
   "metadata": {},
   "source": [
    "# Viewing the Data\n",
    "One of the most used method for getting a quick overview of the DataFrame, is the head() method.\n",
    "\n",
    "The head() method returns the headers and a specified number of rows, starting from the top.\n",
    "\n",
    "There is also a tail() method for viewing the last rows of the DataFrame.\n",
    "\n",
    "The tail() method returns the headers and a specified number of rows, starting from the bottom."
   ]
  },
  {
   "cell_type": "code",
   "execution_count": 13,
   "id": "b2ba61e6-a270-45a2-82a3-99623294a04f",
   "metadata": {},
   "outputs": [
    {
     "name": "stdout",
     "output_type": "stream",
     "text": [
      "   Duration  Pulse  Maxpulse  Calories\n",
      "0        60    110       130     409.1\n",
      "1        60    117       145     479.0\n",
      "2        60    103       135     340.0\n",
      "3        45    109       175     282.4\n",
      "4        45    117       148     406.0\n"
     ]
    }
   ],
   "source": [
    "print(df.head())"
   ]
  },
  {
   "cell_type": "code",
   "execution_count": 14,
   "id": "bb1fd8fb-5f21-4b58-b27e-1c1772d11819",
   "metadata": {},
   "outputs": [
    {
     "name": "stdout",
     "output_type": "stream",
     "text": [
      "   Duration  Pulse  Maxpulse  Calories\n",
      "0        60    110       130     409.1\n",
      "1        60    117       145     479.0\n",
      "2        60    103       135     340.0\n",
      "3        45    109       175     282.4\n",
      "4        45    117       148     406.0\n",
      "5        60    102       127     300.5\n",
      "6        60    110       136     374.0\n",
      "7        45    104       134     253.3\n",
      "8        30    109       133     195.1\n",
      "9        60     98       124     269.0\n"
     ]
    }
   ],
   "source": [
    "print(df.head(10))"
   ]
  },
  {
   "cell_type": "code",
   "execution_count": 15,
   "id": "6374f35e-69df-4d3f-9c5b-b8cbdf7822c6",
   "metadata": {},
   "outputs": [
    {
     "name": "stdout",
     "output_type": "stream",
     "text": [
      "     Duration  Pulse  Maxpulse  Calories\n",
      "164        60    105       140     290.8\n",
      "165        60    110       145     300.4\n",
      "166        60    115       145     310.2\n",
      "167        75    120       150     320.4\n",
      "168        75    125       150     330.4\n"
     ]
    }
   ],
   "source": [
    "print(df.tail())"
   ]
  },
  {
   "cell_type": "code",
   "execution_count": 16,
   "id": "0e7eb81f-db0a-4b32-975c-30123739b34b",
   "metadata": {},
   "outputs": [
    {
     "name": "stdout",
     "output_type": "stream",
     "text": [
      "     Duration  Pulse  Maxpulse  Calories\n",
      "159        30     80       120     240.9\n",
      "160        30     85       120     250.4\n",
      "161        45     90       130     260.4\n",
      "162        45     95       130     270.0\n",
      "163        45    100       140     280.9\n",
      "164        60    105       140     290.8\n",
      "165        60    110       145     300.4\n",
      "166        60    115       145     310.2\n",
      "167        75    120       150     320.4\n",
      "168        75    125       150     330.4\n"
     ]
    }
   ],
   "source": [
    "print(df.tail(10))"
   ]
  },
  {
   "cell_type": "markdown",
   "id": "6ec5753b-42b1-4f8d-9858-3ae2fe9ba556",
   "metadata": {},
   "source": [
    "# Info About the Data\n",
    "The DataFrames object has a method called info(), that gives you more information about the data set."
   ]
  },
  {
   "cell_type": "code",
   "execution_count": 17,
   "id": "328635e0-036a-4bd0-8237-b8c8270b4b06",
   "metadata": {},
   "outputs": [
    {
     "name": "stdout",
     "output_type": "stream",
     "text": [
      "<class 'pandas.core.frame.DataFrame'>\n",
      "Index: 169 entries, 0 to 168\n",
      "Data columns (total 4 columns):\n",
      " #   Column    Non-Null Count  Dtype  \n",
      "---  ------    --------------  -----  \n",
      " 0   Duration  169 non-null    int64  \n",
      " 1   Pulse     169 non-null    int64  \n",
      " 2   Maxpulse  169 non-null    int64  \n",
      " 3   Calories  164 non-null    float64\n",
      "dtypes: float64(1), int64(3)\n",
      "memory usage: 6.6 KB\n",
      "None\n"
     ]
    }
   ],
   "source": [
    "print(df.info())"
   ]
  },
  {
   "cell_type": "markdown",
   "id": "3e9c1b49-390e-4dde-b928-dbe64885474d",
   "metadata": {},
   "source": [
    "# Result Explained\n",
    "The result tells us there are 169 rows and 4 columns:\n",
    "\n",
    "\n",
    "  RangeIndex: 169 entries, 0 to 168\n",
    "  Data columns (total 4 columns):\n",
    "\n",
    "And the name of each column, with the data type:\n",
    "\n",
    "\n",
    "   #   Column    Non-Null Count  Dtype  \n",
    "  ---  ------    --------------  -----  \n",
    "   0   Duration  169 non-null    int64  \n",
    "   1   Pulse     169 non-null    int64  \n",
    "   2   Maxpulse  169 non-null    int64  \n",
    "   3   Calories  164 non-null    float64"
   ]
  },
  {
   "cell_type": "markdown",
   "id": "5b2565fe-cc91-479b-8030-586aa48a2e05",
   "metadata": {},
   "source": [
    "# Null Values\n",
    "The info() method also tells us how many Non-Null values there are present in each column, and in our data set it seems like there are 164 of 169 Non-Null values in the \"Calories\" column.\n",
    "\n",
    "Which means that there are 5 rows with no value at all, in the \"Calories\" column, for whatever reason.\n",
    "\n",
    "Empty values, or Null values, can be bad when analyzing data, and you should consider removing rows with empty values. This is a step towards what is called cleaning data."
   ]
  },
  {
   "cell_type": "code",
   "execution_count": null,
   "id": "65e80e5b-2766-47d2-bca7-1daaccf578fe",
   "metadata": {},
   "outputs": [],
   "source": []
  }
 ],
 "metadata": {
  "kernelspec": {
   "display_name": "Python 3 (ipykernel)",
   "language": "python",
   "name": "python3"
  },
  "language_info": {
   "codemirror_mode": {
    "name": "ipython",
    "version": 3
   },
   "file_extension": ".py",
   "mimetype": "text/x-python",
   "name": "python",
   "nbconvert_exporter": "python",
   "pygments_lexer": "ipython3",
   "version": "3.11.9"
  }
 },
 "nbformat": 4,
 "nbformat_minor": 5
}
