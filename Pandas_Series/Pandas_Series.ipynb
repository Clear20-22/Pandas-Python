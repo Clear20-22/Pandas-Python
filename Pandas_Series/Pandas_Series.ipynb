{
 "cells": [
  {
   "cell_type": "markdown",
   "id": "b44ca973-80e6-4651-bc31-b3b1237e4f45",
   "metadata": {},
   "source": [
    "# What is a Series?\n",
    "\n",
    "A Pandas Series is like a column in a table.\n",
    "It is a one-dimensional array holding data of any type."
   ]
  },
  {
   "cell_type": "code",
   "execution_count": 2,
   "id": "c5d46514-489f-4e44-93be-520c013cf476",
   "metadata": {},
   "outputs": [],
   "source": [
    "import pandas as pd"
   ]
  },
  {
   "cell_type": "code",
   "execution_count": 3,
   "id": "da2f8586-4d8c-4f99-b9f5-9e15fd6a3e2c",
   "metadata": {},
   "outputs": [],
   "source": [
    "arr = [1,2,3]"
   ]
  },
  {
   "cell_type": "code",
   "execution_count": 4,
   "id": "29a3c0f0-a21e-47ba-a04e-d3bd8e10c2b2",
   "metadata": {},
   "outputs": [
    {
     "name": "stdout",
     "output_type": "stream",
     "text": [
      "0    1\n",
      "1    2\n",
      "2    3\n",
      "dtype: int64\n"
     ]
    }
   ],
   "source": [
    "seriesExample = pd.Series(arr)\n",
    "print(seriesExample)"
   ]
  },
  {
   "cell_type": "markdown",
   "id": "44b55fb8-50ce-4b99-ab6d-c6412b1fab56",
   "metadata": {},
   "source": [
    "# Labels\n",
    "If nothing else is specified, the values are labeled with their index number. First value has index 0, second value has index 1 etc.\n",
    "\n",
    "This label can be used to access a specified value."
   ]
  },
  {
   "cell_type": "code",
   "execution_count": 6,
   "id": "b027b655-c2e7-43d4-b3cc-9482564367b5",
   "metadata": {},
   "outputs": [
    {
     "name": "stdout",
     "output_type": "stream",
     "text": [
      "1\n"
     ]
    }
   ],
   "source": [
    "print(seriesExample[0])"
   ]
  },
  {
   "cell_type": "markdown",
   "id": "73541f0b-34d8-40f9-9733-68ccebc6891a",
   "metadata": {},
   "source": [
    "# Create Labels\n",
    "\n",
    "With the index argument, you can name your own labels.\n",
    "\n",
    "When you have created labels, you can access an item by referring to the label."
   ]
  },
  {
   "cell_type": "code",
   "execution_count": 7,
   "id": "8fdf046d-d2be-42b0-8765-540c9fcef23b",
   "metadata": {},
   "outputs": [
    {
     "name": "stdout",
     "output_type": "stream",
     "text": [
      "x    1\n",
      "y    2\n",
      "z    3\n",
      "dtype: int64\n"
     ]
    }
   ],
   "source": [
    "seriesCreateLabels = pd.Series(arr,index = ['x','y','z'])\n",
    "print(seriesCreateLabels)"
   ]
  },
  {
   "cell_type": "code",
   "execution_count": 9,
   "id": "3270a9f5-5fc2-4461-9b36-6bf174367f93",
   "metadata": {},
   "outputs": [
    {
     "name": "stdout",
     "output_type": "stream",
     "text": [
      "1\n"
     ]
    }
   ],
   "source": [
    "print(seriesCreateLabels['x'])"
   ]
  },
  {
   "cell_type": "markdown",
   "id": "92f326f2-a60c-4c3e-8a62-402af08ffffd",
   "metadata": {},
   "source": [
    "# Key/Value Objects as Series\n",
    "\n",
    "You can also use a key/value object, like a dictionary, when creating a Series.\n",
    "\n",
    "Note: The keys of the dictionary become the labels.\n",
    "\n",
    "To select only some of the items in the dictionary, use the index argument and specify only the items you want to include in the Series."
   ]
  },
  {
   "cell_type": "code",
   "execution_count": 10,
   "id": "a3034995-3108-41e8-8caf-9cd9799b67f9",
   "metadata": {},
   "outputs": [],
   "source": [
    "Marks = {\"English\" : 81,\"Bangla\" : 82,\"Math\" : 99,\"ICT\" : 92}"
   ]
  },
  {
   "cell_type": "code",
   "execution_count": 11,
   "id": "67a4ac8c-d888-43af-a7a8-5a1660f972eb",
   "metadata": {},
   "outputs": [
    {
     "name": "stdout",
     "output_type": "stream",
     "text": [
      "English    81\n",
      "Bangla     82\n",
      "Math       99\n",
      "ICT        92\n",
      "dtype: int64\n"
     ]
    }
   ],
   "source": [
    "seriesKeyValueObject = pd.Series(Marks)\n",
    "print(seriesKeyValueObject)"
   ]
  },
  {
   "cell_type": "code",
   "execution_count": 12,
   "id": "c7d7450f-dc82-4598-acc2-2df5bbde9850",
   "metadata": {},
   "outputs": [
    {
     "name": "stdout",
     "output_type": "stream",
     "text": [
      "Math    99\n",
      "ICT     92\n",
      "dtype: int64\n"
     ]
    }
   ],
   "source": [
    "seriesonlyselecteditems = pd.Series(Marks,index = [\"Math\",\"ICT\"])\n",
    "print(seriesonlyselecteditems)"
   ]
  },
  {
   "cell_type": "markdown",
   "id": "6ef43bbe-2fb7-4e09-b69b-f7d694c8959a",
   "metadata": {},
   "source": [
    "# DataFrames\n",
    "Data sets in Pandas are usually multi-dimensional tables, called DataFrames.\n",
    "\n",
    "Series is like a column, a DataFrame is the whole table."
   ]
  },
  {
   "cell_type": "code",
   "execution_count": 13,
   "id": "6b389769-bd1e-475a-a421-a8dd72ef724f",
   "metadata": {},
   "outputs": [],
   "source": [
    "data = {\n",
    "  \"calories\": [420, 380, 390],\n",
    "  \"duration\": [50, 40, 45]\n",
    "}"
   ]
  },
  {
   "cell_type": "code",
   "execution_count": 14,
   "id": "c166567b-1261-4211-98ce-e83ec50f8471",
   "metadata": {},
   "outputs": [
    {
     "name": "stdout",
     "output_type": "stream",
     "text": [
      "   calories  duration\n",
      "0       420        50\n",
      "1       380        40\n",
      "2       390        45\n"
     ]
    }
   ],
   "source": [
    "dtf = pd.DataFrame(data)\n",
    "print(dtf)"
   ]
  },
  {
   "cell_type": "code",
   "execution_count": null,
   "id": "cd5245bc-15da-4fb8-bf52-e240d851c8ab",
   "metadata": {},
   "outputs": [],
   "source": []
  }
 ],
 "metadata": {
  "kernelspec": {
   "display_name": "Python 3 (ipykernel)",
   "language": "python",
   "name": "python3"
  },
  "language_info": {
   "codemirror_mode": {
    "name": "ipython",
    "version": 3
   },
   "file_extension": ".py",
   "mimetype": "text/x-python",
   "name": "python",
   "nbconvert_exporter": "python",
   "pygments_lexer": "ipython3",
   "version": "3.11.9"
  }
 },
 "nbformat": 4,
 "nbformat_minor": 5
}
