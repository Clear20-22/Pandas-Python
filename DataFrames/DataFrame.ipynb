{
 "cells": [
  {
   "cell_type": "code",
   "execution_count": 1,
   "id": "35588366-5367-4527-9c71-49e38d58aad9",
   "metadata": {},
   "outputs": [],
   "source": [
    "import pandas as pd"
   ]
  },
  {
   "cell_type": "markdown",
   "id": "4fe78627-669e-495c-9bd3-e6410bb70fea",
   "metadata": {},
   "source": [
    "# What is a DataFrame?\n",
    "A Pandas DataFrame is a 2 dimensional data structure, like a 2 dimensional array, or a table with rows and columns."
   ]
  },
  {
   "cell_type": "code",
   "execution_count": 4,
   "id": "2e8cad18-1316-4c26-bcae-3d738feab02e",
   "metadata": {},
   "outputs": [],
   "source": [
    "table = {\n",
    "    \"Bangla\":[90,98,81,81],\n",
    "    \"English\":[82,89,92,90],\n",
    "    \"Math\":[99,92,100,98]\n",
    "}"
   ]
  },
  {
   "cell_type": "code",
   "execution_count": 5,
   "id": "7e2336b2-ef97-4cbf-9cd5-a51c7b5d77e9",
   "metadata": {},
   "outputs": [
    {
     "name": "stdout",
     "output_type": "stream",
     "text": [
      "   Bangla  English  Math\n",
      "0      90       82    99\n",
      "1      98       89    92\n",
      "2      81       92   100\n",
      "3      81       90    98\n"
     ]
    }
   ],
   "source": [
    "df = pd.DataFrame(table)\n",
    "print(df)"
   ]
  },
  {
   "cell_type": "markdown",
   "id": "6647dda7-e227-48f4-838f-593f6b400bbc",
   "metadata": {},
   "source": [
    "# Locate Row\n",
    "As you can see from the result above, the DataFrame is like a table with rows and columns.\n",
    "\n",
    "Pandas use the loc attribute to return one or more specified row(s)\n",
    "\n",
    "# Note: \n",
    "This example returns a Pandas Series."
   ]
  },
  {
   "cell_type": "code",
   "execution_count": 8,
   "id": "c9223b05-82f1-4f12-89f8-eb8828276452",
   "metadata": {},
   "outputs": [
    {
     "name": "stdout",
     "output_type": "stream",
     "text": [
      "Bangla     90\n",
      "English    82\n",
      "Math       99\n",
      "Name: 0, dtype: int64\n"
     ]
    }
   ],
   "source": [
    "print(df.loc[0])"
   ]
  },
  {
   "cell_type": "markdown",
   "id": "f1f43bb8-3df9-4c61-b9b4-9178c406cd45",
   "metadata": {},
   "source": [
    "# Note: \n",
    "When using [], the result is a Pandas DataFrame."
   ]
  },
  {
   "cell_type": "code",
   "execution_count": 9,
   "id": "3eed7f5d-2ba5-4b12-8c6a-72b99626e5bd",
   "metadata": {},
   "outputs": [
    {
     "name": "stdout",
     "output_type": "stream",
     "text": [
      "   Bangla  English  Math\n",
      "0      90       82    99\n",
      "1      98       89    92\n"
     ]
    }
   ],
   "source": [
    "print(df.loc[[0,1]])"
   ]
  },
  {
   "cell_type": "markdown",
   "id": "3891a4db-fc73-401f-8c25-a960740ea333",
   "metadata": {},
   "source": [
    "# Named Indexes\n",
    "\n",
    "With the index argument, you can name your own indexes."
   ]
  },
  {
   "cell_type": "code",
   "execution_count": 15,
   "id": "70bee17c-f68f-48b4-a83a-7795a08c0f4f",
   "metadata": {},
   "outputs": [],
   "source": [
    "df = pd.DataFrame(table,index = [\"a\",\"b\",\"c\",\"d\"])"
   ]
  },
  {
   "cell_type": "code",
   "execution_count": 16,
   "id": "afcee5b0-3477-4ef9-ae5e-5d594e628b72",
   "metadata": {},
   "outputs": [
    {
     "name": "stdout",
     "output_type": "stream",
     "text": [
      "   Bangla  English  Math\n",
      "a      90       82    99\n",
      "b      98       89    92\n",
      "c      81       92   100\n",
      "d      81       90    98\n"
     ]
    }
   ],
   "source": [
    "print(df)"
   ]
  },
  {
   "cell_type": "markdown",
   "id": "cf778e9e-072c-431d-a360-8a4a597c2878",
   "metadata": {},
   "source": [
    "# Locate Named Indexes\n",
    "Use the named index in the loc attribute to return the specified row(s)."
   ]
  },
  {
   "cell_type": "code",
   "execution_count": 17,
   "id": "34c77015-3b49-4e36-a92d-e54e9e6de556",
   "metadata": {},
   "outputs": [
    {
     "name": "stdout",
     "output_type": "stream",
     "text": [
      "Bangla     98\n",
      "English    89\n",
      "Math       92\n",
      "Name: b, dtype: int64\n"
     ]
    }
   ],
   "source": [
    "print(df.loc[\"b\"])"
   ]
  },
  {
   "cell_type": "code",
   "execution_count": 18,
   "id": "60a787a0-aa1c-4dd8-84b3-18a3829db5a5",
   "metadata": {},
   "outputs": [
    {
     "name": "stdout",
     "output_type": "stream",
     "text": [
      "   Bangla  English  Math\n",
      "b      98       89    92\n"
     ]
    }
   ],
   "source": [
    "print(df.loc[[\"b\"]])"
   ]
  },
  {
   "cell_type": "code",
   "execution_count": null,
   "id": "5208c4d9-bc32-41f6-8cb3-af4b553cfeba",
   "metadata": {},
   "outputs": [],
   "source": []
  }
 ],
 "metadata": {
  "kernelspec": {
   "display_name": "Python 3 (ipykernel)",
   "language": "python",
   "name": "python3"
  },
  "language_info": {
   "codemirror_mode": {
    "name": "ipython",
    "version": 3
   },
   "file_extension": ".py",
   "mimetype": "text/x-python",
   "name": "python",
   "nbconvert_exporter": "python",
   "pygments_lexer": "ipython3",
   "version": "3.11.9"
  }
 },
 "nbformat": 4,
 "nbformat_minor": 5
}
